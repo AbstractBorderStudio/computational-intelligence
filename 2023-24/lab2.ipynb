{
 "cells": [
  {
   "cell_type": "markdown",
   "metadata": {},
   "source": [
    "Copyright **`(c)`** 2023 Giovanni Squillero `<giovanni.squillero@polito.it>`  \n",
    "[`https://github.com/squillero/computational-intelligence`](https://github.com/squillero/computational-intelligence)  \n",
    "Free for personal or classroom use; see [`LICENSE.md`](https://github.com/squillero/computational-intelligence/blob/master/LICENSE.md) for details.  "
   ]
  },
  {
   "cell_type": "markdown",
   "metadata": {},
   "source": [
    "# LAB2\n",
    "\n",
    "Wrote a local-search algorithm (eg. an EA) able to solve the *Problem* instances 1, 2, 5, and 10 on a 1000-loci genomes, using a minimum number of fitness calls. That's all.\n",
    "\n",
    "### Deadlines:\n",
    "\n",
    "* Submission: Sunday, November 26 ([CET](https://www.timeanddate.com/time/zones/cet))\n",
    "* Reviews: Sunday, December 3 ([CET](https://www.timeanddate.com/time/zones/cet))\n",
    "\n",
    "Notes:\n",
    "\n",
    "* Reviews will be assigned  on Monday, November 27\n",
    "* You need to commit in order to be selected as a reviewer (ie. better to commit an empty work than not to commit)"
   ]
  },
  {
   "cell_type": "code",
   "execution_count": 3,
   "metadata": {},
   "outputs": [],
   "source": [
    "from random import choices\n",
    "\n",
    "import lab2_lib"
   ]
  },
  {
   "cell_type": "code",
   "execution_count": 4,
   "metadata": {},
   "outputs": [
    {
     "name": "stdout",
     "output_type": "stream",
     "text": [
      "1011100100100001010000110000101011111101101111101100110110010010001010001111011001000101011000110100 : 0.6233445558999999\n",
      "0110001000010000110001100001011110100011110111000010111100110101001011011100000011101110101101000100 : 0.8344555567\n",
      "0101111001011101100000111111011010101011100111001011100101001010010100110111000110000011101011010001 : 0.7233444557\n",
      "1010100111010010101001100000001101011110010101110001100101101011111000010100010011010100111011110000 : 0.6334444557999999\n",
      "1110001000001011011001110100111110011001111110001111100010110010100011011101101110111100001111110101 : 0.9223334458\n",
      "1010011000010011011110000101000100111001001101001101110111100111101000110001101000111011110011111001 : 0.7234444457\n",
      "1010000100101001110010101111101100011001001011011011111110101010010001001010011010101011111101101100 : 0.7123334668000001\n",
      "1111100010110000011111110001000011000111100011000100000011110101011010111000001011000101011001101100 : 0.6333445667\n",
      "1010011010100101010010110011100100010111010100110101011101100000110011100111110001111100010000101010 : 0.6333445557\n",
      "1110000111100100011011001011110010110010101010010001110001010110110000111011101010110001001100010010 : 0.6233345668\n",
      "10\n"
     ]
    }
   ],
   "source": [
    "fitness = lab2_lib.make_problem(10)\n",
    "for n in range(10):\n",
    "    ind = choices([0, 1], k = 100)\n",
    "    print(''.join(str(g) for g in ind), ':', fitness(ind))\n",
    "\n",
    "print(fitness.calls)"
   ]
  },
  {
   "cell_type": "code",
   "execution_count": null,
   "metadata": {},
   "outputs": [],
   "source": []
  }
 ],
 "metadata": {
  "kernelspec": {
   "display_name": "ci-fLJ3OwGs-py3.12",
   "language": "python",
   "name": "python3"
  },
  "language_info": {
   "codemirror_mode": {
    "name": "ipython",
    "version": 3
   },
   "file_extension": ".py",
   "mimetype": "text/x-python",
   "name": "python",
   "nbconvert_exporter": "python",
   "pygments_lexer": "ipython3",
   "version": "3.12.0"
  }
 },
 "nbformat": 4,
 "nbformat_minor": 2
}
