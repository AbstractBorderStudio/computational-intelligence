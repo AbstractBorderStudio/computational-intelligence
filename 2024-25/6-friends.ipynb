{
 "cells": [
  {
   "cell_type": "markdown",
   "metadata": {},
   "source": [
    "Copyright **`(c)`** 2024 Giovanni Squillero `<squillero@polito.it>`  \n",
    "`https://github.com/squillero/computational-intelligence`  \n",
    "Free for personal or classroom use; see 'LICENCE.md' for details."
   ]
  },
  {
   "cell_type": "code",
   "execution_count": 30,
   "metadata": {},
   "outputs": [],
   "source": [
    "NUM_FRIENDS = 10"
   ]
  },
  {
   "cell_type": "code",
   "execution_count": 31,
   "metadata": {},
   "outputs": [],
   "source": [
    "from itertools import product, combinations\n",
    "from multiset import Multiset\n",
    "import matplotlib.pyplot as plt\n",
    "import networkx as nx\n",
    "from networkx.drawing.nx_pydot import graphviz_layout\n",
    "from icecream import ic"
   ]
  },
  {
   "cell_type": "code",
   "execution_count": 32,
   "metadata": {},
   "outputs": [],
   "source": [
    "def node2sets(node):\n",
    "    home, pizzeria = node.split(\"-\")\n",
    "    return Multiset(home), Multiset(pizzeria)\n",
    "\n",
    "\n",
    "def sets2node(home, pizzeria):\n",
    "    return \"\".join(sorted(home)) + \"-\" + \"\".join(sorted(pizzeria))\n",
    "\n",
    "\n",
    "sspace = nx.Graph()\n",
    "for c, d, b in product(range(NUM_FRIENDS // 2 + 1), range(NUM_FRIENDS // 2 + 1), [True, False]):\n",
    "    home = \"C\" * c + \"D\" * d + (\"*\" if b else \"\")\n",
    "    pizzeria = \"C\" * (NUM_FRIENDS // 2 - c) + \"D\" * (NUM_FRIENDS // 2 - d) + (\"*\" if not b else \"\")\n",
    "    sspace.add_node(home + \"-\" + pizzeria)"
   ]
  },
  {
   "cell_type": "code",
   "execution_count": null,
   "metadata": {},
   "outputs": [],
   "source": [
    "plt.figure(figsize=(8, 8))\n",
    "nx.draw(sspace, with_labels=True)"
   ]
  },
  {
   "cell_type": "code",
   "execution_count": 34,
   "metadata": {},
   "outputs": [],
   "source": [
    "def valid_node(node):\n",
    "    home, pizzeria = node.split(\"-\")\n",
    "    if home == \"*\" or pizzeria == \"*\":\n",
    "        return False\n",
    "    home, pizzeria = node.split(\"-\")\n",
    "    return valid_location(home) and valid_location(pizzeria)\n",
    "\n",
    "\n",
    "def valid_location(place):\n",
    "    if place.count(\"D\") == 0:\n",
    "        return True\n",
    "    elif place.count(\"D\") >= place.count(\"C\"):\n",
    "        return True\n",
    "    return False"
   ]
  },
  {
   "cell_type": "code",
   "execution_count": null,
   "metadata": {},
   "outputs": [],
   "source": [
    "plt.figure(figsize=(8, 8))\n",
    "nx.draw(\n",
    "    sspace,\n",
    "    with_labels=True,\n",
    "    node_color=[\"green\" if valid_node(n) else \"red\" for n in sspace],\n",
    ")"
   ]
  },
  {
   "cell_type": "code",
   "execution_count": null,
   "metadata": {},
   "outputs": [],
   "source": [
    "sspace = nx.Graph()\n",
    "\n",
    "for c, d, b in product(range(NUM_FRIENDS // 2 + 1), range(NUM_FRIENDS // 2 + 1), [True, False]):\n",
    "    home = \"C\" * c + \"D\" * d + (\"*\" if b else \"\")\n",
    "    pizzeria = \"C\" * (NUM_FRIENDS // 2 - c) + \"D\" * (NUM_FRIENDS // 2 - d) + (\"*\" if not b else \"\")\n",
    "    node = home + \"-\" + pizzeria\n",
    "    if valid_node(node):\n",
    "        sspace.add_node(node)\n",
    "\n",
    "plt.figure(figsize=(8, 8))\n",
    "nx.draw(sspace, with_labels=True)"
   ]
  },
  {
   "cell_type": "code",
   "execution_count": 37,
   "metadata": {},
   "outputs": [],
   "source": [
    "def bike(from_, to):\n",
    "    if '*' in from_[1]:\n",
    "        return bike((from_[1], from_[0]), (to[1], to[0]))\n",
    "    if '*' not in from_[0] or '*' not in to[1]:\n",
    "        return None\n",
    "    if not to[0] <= from_[0] or not from_[1] <= to[1]:\n",
    "        return None\n",
    "    moved = from_[0] - to[0]\n",
    "    if not 2 <= len(moved) <= 3:\n",
    "        return None\n",
    "    if from_[1] + moved != to[1]:\n",
    "        ic()\n",
    "        return None\n",
    "    return ''.join(sorted(moved))"
   ]
  },
  {
   "cell_type": "code",
   "execution_count": null,
   "metadata": {},
   "outputs": [],
   "source": [
    "for n1, n2 in combinations(sspace, 2):\n",
    "    if bike(node2sets(n1), node2sets(n2)) is not None:\n",
    "        sspace.add_edge(n1, n2, label=bike(node2sets(n1), node2sets(n2)))\n",
    "\n",
    "pos = graphviz_layout(sspace, prog='neato')\n",
    "colors = ['violet' if n[0] == '-' or n[-1] == '-' else 'lightskyblue' for n in sspace]\n",
    "\n",
    "plt.figure(figsize=(16, 8))\n",
    "nx.draw(sspace, pos=pos, node_color=colors, with_labels=True)"
   ]
  },
  {
   "cell_type": "code",
   "execution_count": null,
   "metadata": {},
   "outputs": [],
   "source": [
    "SOURCE = \"C\" * (NUM_FRIENDS // 2) + \"D\" * (NUM_FRIENDS // 2) + \"*\" + \"-\"\n",
    "DESTINATION = \"-\" + \"C\" * (NUM_FRIENDS // 2) + \"D\" * (NUM_FRIENDS // 2) + \"*\"\n",
    "nx.shortest_path(sspace, SOURCE, DESTINATION)"
   ]
  },
  {
   "cell_type": "code",
   "execution_count": null,
   "metadata": {},
   "outputs": [],
   "source": []
  }
 ],
 "metadata": {
  "interpreter": {
   "hash": "81583c29eb1de1e2763f7f94748c11ed9fb4fb1823d30e61923417a9f34f86b1"
  },
  "kernelspec": {
   "display_name": "Python 3.9.7 64-bit ('ci2021': conda)",
   "name": "python3"
  },
  "language_info": {
   "codemirror_mode": {
    "name": "ipython",
    "version": 3
   },
   "file_extension": ".py",
   "mimetype": "text/x-python",
   "name": "python",
   "nbconvert_exporter": "python",
   "pygments_lexer": "ipython3",
   "version": "3.12.6"
  },
  "orig_nbformat": 4
 },
 "nbformat": 4,
 "nbformat_minor": 2
}
